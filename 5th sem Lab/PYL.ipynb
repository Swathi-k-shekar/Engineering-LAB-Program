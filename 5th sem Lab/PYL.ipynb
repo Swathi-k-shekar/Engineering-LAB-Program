{
 "cells": [
  {
   "cell_type": "markdown",
   "id": "788fe905",
   "metadata": {},
   "source": [
    "# Oprations on Numpy and Matplotlib"
   ]
  },
  {
   "cell_type": "code",
   "execution_count": 1,
   "id": "5c134508",
   "metadata": {},
   "outputs": [
    {
     "data": {
      "image/png": "[encoded data removed]",
      "text/plain": [
       "<Figure size 640x480 with 1 Axes>"
      ]
     },
     "metadata": {},
     "output_type": "display_data"
    }
   ],
   "source": [
    "import matplotlib.pyplot as plt\n",
    "import numpy as np\n",
    "x=np.arange(0,3*np.pi, 0.2)\n",
    "y=np.sin(x)\n",
    "plt.title(\"PLT\")\n",
    "plt.xlabel(\"X\")\n",
    "plt.plot(x,y)\n",
    "plt.show()"
   ]
  },
  {
   "cell_type": "code",
   "execution_count": 2,
   "id": "c058b901",
   "metadata": {},
   "outputs": [
    {
     "name": "stdout",
     "output_type": "stream",
     "text": [
      "[[False  True False]\n",
      " [False  True False]]\n",
      "2\n"
     ]
    }
   ],
   "source": [
    "import numpy as np\n",
    "num=np.array([[1,np.nan,0],[1,np.nan,0]])\n",
    "print(np.isnan(num))\n",
    "print(num.size - np.count_nonzero(num))"
   ]
  },
  {
   "cell_type": "code",
   "execution_count": 3,
   "id": "a9db975a",
   "metadata": {},
   "outputs": [
    {
     "name": "stdout",
     "output_type": "stream",
     "text": [
      "[30 31 32 33 34 35 36 37 38 39]\n",
      "{'mon': 1, 'tues': 2}\n",
      "0    30\n",
      "1    31\n",
      "2    32\n",
      "3    33\n",
      "4    34\n",
      "5    35\n",
      "6    36\n",
      "7    37\n",
      "8    38\n",
      "9    39\n",
      "dtype: int32\n",
      "mon     1\n",
      "tues    2\n",
      "dtype: int64\n"
     ]
    }
   ],
   "source": [
    "import numpy as np\n",
    "arr=np.arange(30,40)\n",
    "print(arr)\n",
    "dict={'mon':1, 'tues':2}\n",
    "print(dict)\n",
    "import pandas as pd\n",
    "pri=pd.Series(arr)\n",
    "print(pri)\n",
    "p=pd.Series(dict)\n",
    "print(p)"
   ]
  },
  {
   "cell_type": "code",
   "execution_count": 4,
   "id": "fe14051f",
   "metadata": {},
   "outputs": [
    {
     "name": "stdout",
     "output_type": "stream",
     "text": [
      "[[ 4 44 48  4]\n",
      " [19 38 24 23]\n",
      " [11  4  4 37]\n",
      " [10 33 28 26]]\n",
      "[[10 33 28 26]\n",
      " [11  4  4 37]\n",
      " [19 38 24 23]\n",
      " [ 4 44 48  4]]\n",
      "[[ 4 48 44  4]\n",
      " [23 24 38 19]\n",
      " [37  4  4 11]\n",
      " [26 28 33 10]]\n"
     ]
    }
   ],
   "source": [
    "import numpy as np\n",
    "arr=np.random.randint(4,67,size=(4,4))\n",
    "print(arr)\n",
    "print(arr[::-1])\n",
    "print(arr[::,::-1])"
   ]
  },
  {
   "cell_type": "code",
   "execution_count": 5,
   "id": "7981cbce",
   "metadata": {},
   "outputs": [],
   "source": [
    "import turtle\n",
    "t=turtle.Turtle()\n",
    "t.color(\"black\",\"pink\")\n",
    "t.begin_fill()\n",
    "for i in range(3):\n",
    "    t.fd(100)\n",
    "    t.lt(120)\n",
    "t.end_fill()\n"
   ]
  },
  {
   "cell_type": "code",
   "execution_count": 6,
   "id": "cf09b7ec",
   "metadata": {},
   "outputs": [
    {
     "name": "stdout",
     "output_type": "stream",
     "text": [
      "8\n"
     ]
    }
   ],
   "source": [
    "print(16//2)"
   ]
  },
  {
   "cell_type": "code",
   "execution_count": 7,
   "id": "6242f46f",
   "metadata": {},
   "outputs": [
    {
     "name": "stdout",
     "output_type": "stream",
     "text": [
      "     name   sub\n",
      "1    dfbd   sgr\n",
      "2  sergvs    sg\n",
      "3     hvh  iuvi\n",
      "     name sub\n",
      "2  sergvs  sg\n",
      "     name sub\n",
      "2  sergvs  sg\n",
      "     name   sub\n",
      "3     hvh  iuvi\n",
      "2  sergvs    sg\n",
      "1    dfbd   sgr\n"
     ]
    }
   ],
   "source": [
    "import pandas as pd\n",
    "data={'name':['dfbd','sergvs','hvh'],'sub':['sgr','sg','iuvi']}\n",
    "\n",
    "label=[1,2,3]\n",
    "df=pd.DataFrame(data,index=label)\n",
    "print(df)\n",
    "print(df.iloc[1:2])\n",
    "print(df[df['sub']=='sg'])\n",
    "print(df.sort_values(by=['sub','name'],ascending=[True,False]))"
   ]
  },
  {
   "cell_type": "code",
   "execution_count": 8,
   "id": "4b8b5a63",
   "metadata": {},
   "outputs": [
    {
     "name": "stdout",
     "output_type": "stream",
     "text": [
      "0    [sg, dgh, rth]\n",
      "1        [rth, ety]\n",
      "dtype: object\n",
      "0     sg\n",
      "1    dgh\n",
      "2    rth\n",
      "3    rth\n",
      "4    ety\n",
      "dtype: object\n",
      "1    dgh\n",
      "4    ety\n",
      "2    rth\n",
      "3    rth\n",
      "0     sg\n",
      "dtype: object\n",
      "[19 46 17 27 23 16 48 40 46 19]\n",
      "[[7]]\n",
      "19    2\n",
      "46    2\n",
      "16    1\n",
      "17    1\n",
      "23    1\n",
      "27    1\n",
      "40    1\n",
      "48    1\n",
      "dtype: int64\n"
     ]
    }
   ],
   "source": [
    "import pandas as pd\n",
    "import numpy as np\n",
    "s=pd.Series([['sg','dgh','rth'],['rth','ety']])\n",
    "print(s)\n",
    "s1=s.apply(pd.Series).stack().reset_index(drop=True)\n",
    "print(s1)\n",
    "ss=pd.Series(s1).sort_values()\n",
    "print(ss)\n",
    "s2=pd.Series(np.random.randint(10,50,10))\n",
    "a=s2.to_numpy()\n",
    "print(a)\n",
    "index=np.argwhere(a%5==0)\n",
    "print(index)\n",
    "df=pd.DataFrame(s2)\n",
    "ic=df.value_counts()\n",
    "print(ic)"
   ]
  },
  {
   "cell_type": "code",
   "execution_count": 9,
   "id": "9d2740b7",
   "metadata": {},
   "outputs": [
    {
     "name": "stdout",
     "output_type": "stream",
     "text": [
      "Original Series:\n",
      "0     1\n",
      "1     2\n",
      "2     3\n",
      "3     4\n",
      "4     5\n",
      "5     6\n",
      "6     7\n",
      "7     8\n",
      "8     9\n",
      "9    10\n",
      "dtype: int64\n",
      "0     1\n",
      "1     3\n",
      "2     5\n",
      "3     7\n",
      "4    10\n",
      "dtype: int64\n",
      "Positions of items of series2 in series1:\n",
      "[0, 2, 4, 6, 9]\n"
     ]
    }
   ],
   "source": [
    "series1 = pd.Series([1, 2, 3, 4, 5, 6, 7, 8, 9, 10])\n",
    "series2 = pd.Series([1, 3, 5, 7, 10])\n",
    "print(\"Original Series:\")\n",
    "print(series1)\n",
    "print(series2)\n",
    "result =[pd.Index(series1).get_loc(i) for i in series2]\n",
    "print(\"Positions of items of series2 in series1:\")\n",
    "print(result)"
   ]
  },
  {
   "cell_type": "code",
   "execution_count": 16,
   "id": "e816731c",
   "metadata": {},
   "outputs": [
    {
     "name": "stdout",
     "output_type": "stream",
     "text": [
      "1    10\n",
      "2    29\n",
      "3    30\n",
      "dtype: int64\n",
      "    fca  sdv\n",
      "0  sdvs   sd\n",
      "1   sfg  dsv\n"
     ]
    }
   ],
   "source": [
    "import pandas as pd\n",
    "l=[10,29,30]\n",
    "t=pd.Series(l,index=[1,2,3])\n",
    "print(t)\n",
    "dic={'fca':['sdvs','sfg'],'sdv':['sd','dsv']}\n",
    "i=pd.DataFrame(dic)\n",
    "print(i)"
   ]
  }
 ],
 "metadata": {
  "kernelspec": {
   "display_name": "Python 3 (ipykernel)",
   "language": "python",
   "name": "python3"
  },
  "language_info": {
   "codemirror_mode": {
    "name": "ipython",
    "version": 3
   },
   "file_extension": ".py",
   "mimetype": "text/x-python",
   "name": "python",
   "nbconvert_exporter": "python",
   "pygments_lexer": "ipython3",
   "version": "3.11.0"
  }
 },
 "nbformat": 4,
 "nbformat_minor": 5
}
